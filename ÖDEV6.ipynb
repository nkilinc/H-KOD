{
 "cells": [
  {
   "cell_type": "code",
   "execution_count": 1,
   "id": "ccf82fa8-b79b-406f-81e3-01e9e6883ad5",
   "metadata": {
    "tags": []
   },
   "outputs": [
    {
     "name": "stdout",
     "output_type": "stream",
     "text": [
      "Bir boyutlu array boyutu: 1\n",
      "İki boyutlu array boyutu: 2\n",
      "Üç boyutlu array boyutu: 3\n",
      "Bir boyutlu array eleman sayısı: 4\n",
      "İki boyutlu array eleman sayısı: 6\n",
      "Üç boyutlu array eleman sayısı: 8\n",
      "İki boyutlu array satır ve sütun sayısı: (2, 3)\n",
      "İki boyutlu arrayin birinci satırı: [1 2 3]\n",
      "İki boyutlu arrayin ikinci satırın ikinci elemanı: 5\n",
      "İki boyutlu arrayin ilk sütunu: [1 4]\n",
      "Birleştirilmiş array:\n",
      " [[0. 0.]\n",
      " [0. 0.]\n",
      " [1. 1.]\n",
      " [1. 1.]]\n"
     ]
    }
   ],
   "source": [
    "import numpy as np\n",
    "bir_boyutlu = np.array([35, 51, 54, 52])\n",
    "\n",
    "iki_boyutlu = np.array([[1, 2, 3], [4, 5, 6]])\n",
    "\n",
    "uc_boyutlu = np.array([[[1, 2], [3, 4]], [[5, 6], [7, 8]]])\n",
    "\n",
    "print(\"Bir boyutlu array boyutu:\", bir_boyutlu.ndim)\n",
    "print(\"İki boyutlu array boyutu:\", iki_boyutlu.ndim)\n",
    "print(\"Üç boyutlu array boyutu:\", uc_boyutlu.ndim)\n",
    "\n",
    "print(\"Bir boyutlu array eleman sayısı:\", bir_boyutlu.size)\n",
    "print(\"İki boyutlu array eleman sayısı:\", iki_boyutlu.size)\n",
    "print(\"Üç boyutlu array eleman sayısı:\", uc_boyutlu.size)\n",
    "\n",
    "print(\"İki boyutlu array satır ve sütun sayısı:\", iki_boyutlu.shape)\n",
    "\n",
    "print(\"İki boyutlu arrayin birinci satırı:\", iki_boyutlu[0])\n",
    "print(\"İki boyutlu arrayin ikinci satırın ikinci elemanı:\", iki_boyutlu[1, 1])\n",
    "print(\"İki boyutlu arrayin ilk sütunu:\", iki_boyutlu[:, 0])\n",
    "\n",
    "sifirlar = np.zeros((2, 2))\n",
    "birler = np.ones((2, 2))\n",
    "birlesik = np.vstack((sifirlar, birler))  # Satır bazında birleştirme\n",
    "print(\"Birleştirilmiş array:\\n\", birlesik)\n"
   ]
  },
  {
   "cell_type": "code",
   "execution_count": null,
   "id": "e46aebef-2469-434c-9eb7-63fa51e7283b",
   "metadata": {},
   "outputs": [],
   "source": []
  }
 ],
 "metadata": {
  "kernelspec": {
   "display_name": "Python 3 (ipykernel)",
   "language": "python",
   "name": "python3"
  },
  "language_info": {
   "codemirror_mode": {
    "name": "ipython",
    "version": 3
   },
   "file_extension": ".py",
   "mimetype": "text/x-python",
   "name": "python",
   "nbconvert_exporter": "python",
   "pygments_lexer": "ipython3",
   "version": "3.11.5"
  }
 },
 "nbformat": 4,
 "nbformat_minor": 5
}
