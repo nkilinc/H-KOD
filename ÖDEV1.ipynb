{
 "cells": [
  {
   "cell_type": "code",
   "execution_count": 9,
   "id": "ae7cbbe4-9920-4da9-bca6-1e9ab22a26ba",
   "metadata": {
    "tags": []
   },
   "outputs": [
    {
     "name": "stdout",
     "output_type": "stream",
     "text": [
      "<class 'float'>\n"
     ]
    }
   ],
   "source": [
    "x = 3\n",
    "x = float(x)\n",
    "print(type(x))"
   ]
  },
  {
   "cell_type": "code",
   "execution_count": 7,
   "id": "443e6380-bdd1-4bc0-bd8b-b47697a695be",
   "metadata": {
    "tags": []
   },
   "outputs": [
    {
     "name": "stdout",
     "output_type": "stream",
     "text": [
      "<class 'int'>\n"
     ]
    }
   ],
   "source": [
    "y = 4.5\n",
    "y = int(y)\n",
    "print(type(y))"
   ]
  },
  {
   "cell_type": "code",
   "execution_count": 10,
   "id": "af09c4e7-4d05-4d59-9f90-dc7df0f2228c",
   "metadata": {
    "tags": []
   },
   "outputs": [
    {
     "name": "stdout",
     "output_type": "stream",
     "text": [
      "<class 'int'>\n"
     ]
    }
   ],
   "source": [
    "z = \"8\"\n",
    "z = int(z)\n",
    "print(type(z))"
   ]
  },
  {
   "cell_type": "code",
   "execution_count": 11,
   "id": "8541b605-9647-4bb2-a13d-e8401e33f526",
   "metadata": {
    "tags": []
   },
   "outputs": [
    {
     "name": "stdout",
     "output_type": "stream",
     "text": [
      "<class 'float'>\n"
     ]
    }
   ],
   "source": [
    "a = \"12\"\n",
    "a = float(a)\n",
    "print(type(a))"
   ]
  },
  {
   "cell_type": "code",
   "execution_count": 17,
   "id": "b4f490b6-b248-49cb-8d49-ccdde6931e16",
   "metadata": {
    "tags": []
   },
   "outputs": [
    {
     "name": "stdout",
     "output_type": "stream",
     "text": [
      "<class 'int'>\n"
     ]
    }
   ],
   "source": [
    "b = \"46.8\"\n",
    "b = int(float(b))\n",
    "print(type(b))"
   ]
  },
  {
   "cell_type": "code",
   "execution_count": 19,
   "id": "851ca3bf-848b-4552-90ff-c7a8f182edb9",
   "metadata": {
    "tags": []
   },
   "outputs": [
    {
     "name": "stdout",
     "output_type": "stream",
     "text": [
      "False\n"
     ]
    }
   ],
   "source": [
    "yas1 = 11\n",
    "yas2 = 25\n",
    "yas3 = 18\n",
    "karsılastırma1 = yas1 > yas2\n",
    "print(karsılastırma)"
   ]
  },
  {
   "cell_type": "code",
   "execution_count": 22,
   "id": "f871984d-5a1b-4241-b18f-3dafea9895e4",
   "metadata": {
    "tags": []
   },
   "outputs": [
    {
     "name": "stdout",
     "output_type": "stream",
     "text": [
      "True\n"
     ]
    }
   ],
   "source": [
    "karsılastırma2 = yas3 < yas2\n",
    "print(karsılastırma2)"
   ]
  },
  {
   "cell_type": "code",
   "execution_count": 23,
   "id": "cdc0ab09-f51c-48f4-b7d4-ac54261ca383",
   "metadata": {
    "tags": []
   },
   "outputs": [
    {
     "name": "stdout",
     "output_type": "stream",
     "text": [
      "False\n"
     ]
    }
   ],
   "source": [
    "karsılastırma3 = yas1 == yas3\n",
    "print(karsılastırma3)"
   ]
  },
  {
   "cell_type": "code",
   "execution_count": 24,
   "id": "afc3e58b-f11e-4b33-8bbc-74c99cccbc54",
   "metadata": {
    "tags": []
   },
   "outputs": [
    {
     "name": "stdout",
     "output_type": "stream",
     "text": [
      "True\n"
     ]
    }
   ],
   "source": [
    "karsılastırma4 = yas2 != yas3\n",
    "print(karsılastırma4)"
   ]
  },
  {
   "cell_type": "code",
   "execution_count": 25,
   "id": "afbce7b1-98f8-4214-aadb-80921edf45fc",
   "metadata": {
    "tags": []
   },
   "outputs": [
    {
     "name": "stdin",
     "output_type": "stream",
     "text": [
      "Birinci sayıyı giriniz:  5\n",
      "İkinci sayıyı giriniz:  4\n"
     ]
    },
    {
     "name": "stdout",
     "output_type": "stream",
     "text": [
      "9.0\n"
     ]
    }
   ],
   "source": [
    "sayi1 = float(input(\"Birinci sayıyı giriniz: \"))\n",
    "sayi2 = float(input(\"İkinci sayıyı giriniz: \"))\n",
    "\n",
    "toplam = sayi1 + sayi2\n",
    "print(toplam)"
   ]
  },
  {
   "cell_type": "code",
   "execution_count": 26,
   "id": "4e2d84ee-d02d-486f-95f0-de70c35dcb7c",
   "metadata": {
    "tags": []
   },
   "outputs": [
    {
     "name": "stdout",
     "output_type": "stream",
     "text": [
      "1.0\n"
     ]
    }
   ],
   "source": [
    "cikarma = sayi1 - sayi2\n",
    "print(cikarma)"
   ]
  },
  {
   "cell_type": "code",
   "execution_count": 27,
   "id": "f81fae06-fa94-4f07-bf72-24b96bc8c697",
   "metadata": {
    "tags": []
   },
   "outputs": [
    {
     "name": "stdout",
     "output_type": "stream",
     "text": [
      "20.0\n"
     ]
    }
   ],
   "source": [
    "carpma = sayi1 * sayi2\n",
    "print(carpma)"
   ]
  },
  {
   "cell_type": "code",
   "execution_count": 28,
   "id": "7dd71051-cbf1-425b-b6cb-f12f849cf5e9",
   "metadata": {
    "tags": []
   },
   "outputs": [
    {
     "name": "stdout",
     "output_type": "stream",
     "text": [
      "1.25\n"
     ]
    }
   ],
   "source": [
    "bolme = sayi1 / sayi2\n",
    "print(bolme)"
   ]
  },
  {
   "cell_type": "code",
   "execution_count": 44,
   "id": "dff3211b-7a59-434f-a158-c0ab975a4ae8",
   "metadata": {
    "tags": []
   },
   "outputs": [
    {
     "name": "stdin",
     "output_type": "stream",
     "text": [
      "İsminiz:  nil\n",
      "Yaşınız:  21\n",
      "Şehir:  kocaeli\n",
      "Meslek:  öğrenci\n"
     ]
    },
    {
     "name": "stdout",
     "output_type": "stream",
     "text": [
      "nil 21 kocaeli öğrenci\n"
     ]
    }
   ],
   "source": [
    "isim = input(\"İsminiz: \")\n",
    "yas = input(\"Yaşınız: \")\n",
    "sehir = input(\"Şehir: \")\n",
    "meslek = input(\"Meslek: \")\n",
    "\n",
    "print((isim), (yas), (sehir), (meslek))"
   ]
  },
  {
   "cell_type": "code",
   "execution_count": 48,
   "id": "23a2c811-ec9d-4944-bcd4-71e4d5a49121",
   "metadata": {
    "tags": []
   },
   "outputs": [
    {
     "name": "stdout",
     "output_type": "stream",
     "text": [
      "Hi-Kod\n"
     ]
    }
   ],
   "source": [
    "ifade = \"Hi-Kod Veri Bilimi Atölyesi\"\n",
    "\n",
    "kelimeler = ifade.split()\n",
    "print(kelimeler[0])"
   ]
  },
  {
   "cell_type": "code",
   "execution_count": 49,
   "id": "5d51d121-91da-4aac-b707-afabf7228656",
   "metadata": {
    "tags": []
   },
   "outputs": [
    {
     "name": "stdout",
     "output_type": "stream",
     "text": [
      "Tüm harfler büyük:  HI-KOD VERI BILIMI ATÖLYESI\n",
      "Tüm harfler küçük:  hi-kod veri bilimi atölyesi\n"
     ]
    }
   ],
   "source": [
    "buyuk_harf_ifade = ifade.upper()\n",
    "kucuk_harf_ifade = ifade.lower()\n",
    "\n",
    "print(\"Tüm harfler büyük: \", buyuk_harf_ifade)\n",
    "print(\"Tüm harfler küçük: \", kucuk_harf_ifade)"
   ]
  },
  {
   "cell_type": "code",
   "execution_count": 50,
   "id": "55147a3f-1563-4f27-bbf6-f306eb0bb7ee",
   "metadata": {
    "tags": []
   },
   "outputs": [
    {
     "name": "stdout",
     "output_type": "stream",
     "text": [
      "Çift sayılar:  02468\n",
      "Tek sayılar:  13579\n"
     ]
    }
   ],
   "source": [
    "sayilar = \"0123456789\"\n",
    "cift_sayilar = sayilar[::2]\n",
    "tek_sayilar = sayilar[1::2]\n",
    "\n",
    "print(\"Çift sayılar: \", cift_sayilar)\n",
    "print(\"Tek sayılar: \", tek_sayilar)"
   ]
  },
  {
   "cell_type": "code",
   "execution_count": 51,
   "id": "2eeeb2e5-1694-43af-8a65-00d525a5713e",
   "metadata": {
    "tags": []
   },
   "outputs": [
    {
     "ename": "SyntaxError",
     "evalue": "invalid syntax (967682352.py, line 1)",
     "output_type": "error",
     "traceback": [
      "\u001b[1;36m  Cell \u001b[1;32mIn[51], line 1\u001b[1;36m\u001b[0m\n\u001b[1;33m    git clone\u001b[0m\n\u001b[1;37m        ^\u001b[0m\n\u001b[1;31mSyntaxError\u001b[0m\u001b[1;31m:\u001b[0m invalid syntax\n"
     ]
    }
   ],
   "source": [
    "git clone\n"
   ]
  },
  {
   "cell_type": "code",
   "execution_count": null,
   "id": "6399f3f2-07af-4825-8e98-f19fc5a0ade0",
   "metadata": {},
   "outputs": [],
   "source": []
  }
 ],
 "metadata": {
  "kernelspec": {
   "display_name": "Python 3 (ipykernel)",
   "language": "python",
   "name": "python3"
  },
  "language_info": {
   "codemirror_mode": {
    "name": "ipython",
    "version": 3
   },
   "file_extension": ".py",
   "mimetype": "text/x-python",
   "name": "python",
   "nbconvert_exporter": "python",
   "pygments_lexer": "ipython3",
   "version": "3.11.5"
  }
 },
 "nbformat": 4,
 "nbformat_minor": 5
}
