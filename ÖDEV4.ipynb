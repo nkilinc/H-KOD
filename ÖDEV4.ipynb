{
 "cells": [
  {
   "cell_type": "code",
   "execution_count": 1,
   "id": "a69fbe8a-a62c-4c65-84e5-73c758157908",
   "metadata": {
    "tags": []
   },
   "outputs": [
    {
     "name": "stdout",
     "output_type": "stream",
     "text": [
      "Index of '3': 3\n"
     ]
    }
   ],
   "source": [
    "liste = [\"Python\", True, 9, \"3\", 8.4, \"Hi-Kod\", \"False\", 4.7]\n",
    "\n",
    "index_3 = liste.index(\"3\")\n",
    "print(\"Index of '3':\", index_3)"
   ]
  },
  {
   "cell_type": "code",
   "execution_count": 2,
   "id": "b9ce3767-d7a4-4ce0-8e96-19b27bd5ffef",
   "metadata": {
    "tags": []
   },
   "outputs": [
    {
     "name": "stdout",
     "output_type": "stream",
     "text": [
      "Index of 'Hi-Kod': 5\n"
     ]
    }
   ],
   "source": [
    "index_hi_kod = liste.index(\"Hi-Kod\")\n",
    "print(\"Index of 'Hi-Kod':\", index_hi_kod)"
   ]
  },
  {
   "cell_type": "code",
   "execution_count": 3,
   "id": "fdd869dc-ba8f-4b18-bb32-23dba144be8c",
   "metadata": {
    "tags": []
   },
   "outputs": [
    {
     "name": "stdout",
     "output_type": "stream",
     "text": [
      "Index of 4.7: 7\n"
     ]
    }
   ],
   "source": [
    "index_4_7 = liste.index(4.7)\n",
    "print(\"Index of 4.7:\", index_4_7)"
   ]
  },
  {
   "cell_type": "code",
   "execution_count": 4,
   "id": "816a14d2-05e1-4a02-9c8e-c05bd57148a0",
   "metadata": {
    "tags": []
   },
   "outputs": [
    {
     "name": "stdout",
     "output_type": "stream",
     "text": [
      "Sliced 1: [9, '3', 8.4, 'Hi-Kod']\n"
     ]
    }
   ],
   "source": [
    "sliced1 = liste[2:6]\n",
    "print(\"Sliced 1:\", sliced1)"
   ]
  },
  {
   "cell_type": "code",
   "execution_count": 5,
   "id": "32bb9617-7bab-4d73-9b19-812c531dd9c5",
   "metadata": {
    "tags": []
   },
   "outputs": [
    {
     "name": "stdout",
     "output_type": "stream",
     "text": [
      "Sliced 2: [8.4, 'Hi-Kod', 'False', 4.7]\n"
     ]
    }
   ],
   "source": [
    "sliced2 = liste[4:8]\n",
    "print(\"Sliced 2:\", sliced2)"
   ]
  },
  {
   "cell_type": "code",
   "execution_count": 6,
   "id": "a7f62464-3ac5-451b-8a1f-acc836450e4b",
   "metadata": {
    "tags": []
   },
   "outputs": [
    {
     "name": "stdout",
     "output_type": "stream",
     "text": [
      "Yeni liste: ['Python', '3', 'Hi-Kod', 'False']\n"
     ]
    }
   ],
   "source": [
    "yeni_liste = [item for item in liste if isinstance(item, str)]\n",
    "print(\"Yeni liste:\", yeni_liste)"
   ]
  },
  {
   "cell_type": "code",
   "execution_count": 7,
   "id": "ffe809c1-1c59-4870-b6a8-8492023c7dbc",
   "metadata": {
    "tags": []
   },
   "outputs": [
    {
     "name": "stdout",
     "output_type": "stream",
     "text": [
      "0. indexte bulunan meyve: elma\n",
      "1. indexte bulunan meyve: armut\n",
      "2. indexte bulunan meyve: kiraz\n"
     ]
    }
   ],
   "source": [
    "meyveler = [\"elma\", \"armut\", \"kiraz\"]\n",
    "\n",
    "for index, meyve in enumerate(meyveler):\n",
    "    print(\"{}. indexte bulunan meyve: {}\".format(index, meyve))"
   ]
  },
  {
   "cell_type": "code",
   "execution_count": null,
   "id": "c29b0f1f-82c8-469d-a90a-2d804a7920a3",
   "metadata": {},
   "outputs": [],
   "source": []
  }
 ],
 "metadata": {
  "kernelspec": {
   "display_name": "Python 3 (ipykernel)",
   "language": "python",
   "name": "python3"
  },
  "language_info": {
   "codemirror_mode": {
    "name": "ipython",
    "version": 3
   },
   "file_extension": ".py",
   "mimetype": "text/x-python",
   "name": "python",
   "nbconvert_exporter": "python",
   "pygments_lexer": "ipython3",
   "version": "3.11.5"
  }
 },
 "nbformat": 4,
 "nbformat_minor": 5
}
