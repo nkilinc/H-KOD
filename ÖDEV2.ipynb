{
 "cells": [
  {
   "cell_type": "code",
   "execution_count": 11,
   "id": "1a70af18-12aa-4772-9025-fdea7021c8d8",
   "metadata": {
    "tags": []
   },
   "outputs": [
    {
     "name": "stdin",
     "output_type": "stream",
     "text": [
      "Maaşınızı giriniz:  500\n"
     ]
    },
    {
     "name": "stdout",
     "output_type": "stream",
     "text": [
      "Yeni maaşınız: 475.0\n"
     ]
    }
   ],
   "source": [
    "maas = float(input(\"Maaşınızı giriniz: \"))\n",
    "\n",
    "if maas <= 10000:\n",
    "    maas -= maas * 0.05\n",
    "elif maas <= 25000:\n",
    "    maas -= maas * 0.10\n",
    "elif maas <= 45000:\n",
    "    maas -= maas * 0.25\n",
    "else:\n",
    "    maas -= maas * 0.30\n",
    "\n",
    "print(\"Yeni maaşınız:\", maas)"
   ]
  },
  {
   "cell_type": "code",
   "execution_count": 13,
   "id": "029b261e-e800-496e-b3ea-55f274a59081",
   "metadata": {
    "tags": []
   },
   "outputs": [
    {
     "name": "stdin",
     "output_type": "stream",
     "text": [
      "Kullanıcı adınızı giriniz:  nil\n",
      "Şifrenizi giriniz:  123456\n"
     ]
    },
    {
     "name": "stdout",
     "output_type": "stream",
     "text": [
      "Hesabınız oluşturuldu.\n"
     ]
    }
   ],
   "source": [
    "kullanici_adi = input(\"Kullanıcı adınızı giriniz: \")\n",
    "sifre = input(\"Şifrenizi giriniz: \")\n",
    "\n",
    "if len(sifre) >= 6:\n",
    "    print(\"Hesabınız oluşturuldu.\")\n",
    "else:\n",
    "    print(\"Şifreniz en az 6 karakter olmalıdır.\")\n"
   ]
  },
  {
   "cell_type": "code",
   "execution_count": 15,
   "id": "2988469c-7094-48ae-9466-eecf75060202",
   "metadata": {
    "tags": []
   },
   "outputs": [
    {
     "name": "stdin",
     "output_type": "stream",
     "text": [
      "Kullanıcı adınızı giriniz:  n\n",
      "Şifrenizi giriniz:  12\n"
     ]
    },
    {
     "name": "stdout",
     "output_type": "stream",
     "text": [
      "Lütfen girdiğiniz şifre 5 haneden az, 10 haneden fazla olmasın!\n"
     ]
    },
    {
     "name": "stdin",
     "output_type": "stream",
     "text": [
      "Şifrenizi giriniz:  1234\n"
     ]
    },
    {
     "name": "stdout",
     "output_type": "stream",
     "text": [
      "Lütfen girdiğiniz şifre 5 haneden az, 10 haneden fazla olmasın!\n"
     ]
    },
    {
     "name": "stdin",
     "output_type": "stream",
     "text": [
      "Şifrenizi giriniz:  123333\n"
     ]
    },
    {
     "name": "stdout",
     "output_type": "stream",
     "text": [
      "Hesabınız oluşturuldu.\n"
     ]
    }
   ],
   "source": [
    "kullanici_adi = input(\"Kullanıcı adınızı giriniz: \")\n",
    "while True:\n",
    "    sifre = input(\"Şifrenizi giriniz: \")\n",
    "    if 5 <= len(sifre) <= 10:\n",
    "        print(\"Hesabınız oluşturuldu.\")\n",
    "        break\n",
    "    else:\n",
    "        print(\"Lütfen girdiğiniz şifre 5 haneden az, 10 haneden fazla olmasın!\")\n"
   ]
  },
  {
   "cell_type": "code",
   "execution_count": 17,
   "id": "ea2ef750-6ecc-4ce9-9abd-1e543f363b1e",
   "metadata": {
    "tags": []
   },
   "outputs": [
    {
     "name": "stdin",
     "output_type": "stream",
     "text": [
      "Şifrenizi giriniz:  123\n"
     ]
    },
    {
     "name": "stdout",
     "output_type": "stream",
     "text": [
      "Yanlış şifre girildi! Kalan hakkınız: 2\n"
     ]
    },
    {
     "name": "stdin",
     "output_type": "stream",
     "text": [
      "Şifrenizi giriniz:  159\n"
     ]
    },
    {
     "name": "stdout",
     "output_type": "stream",
     "text": [
      "Yanlış şifre girildi! Kalan hakkınız: 1\n"
     ]
    },
    {
     "name": "stdin",
     "output_type": "stream",
     "text": [
      "Şifrenizi giriniz:  159\n"
     ]
    },
    {
     "name": "stdout",
     "output_type": "stream",
     "text": [
      "Yanlış şifre girildi! Kalan hakkınız: 0\n",
      "Üç yanlış denemede program sona erdi.\n"
     ]
    }
   ],
   "source": [
    "dogru_sifre = \"nil159\"\n",
    "hak = 3\n",
    "\n",
    "while hak > 0:\n",
    "    girilen_sifre = input(\"Şifrenizi giriniz: \")\n",
    "    \n",
    "    if girilen_sifre == dogru_sifre:\n",
    "        print(\"Giriş yapıldı.\")\n",
    "        break\n",
    "    else:\n",
    "        hak -= 1\n",
    "        print(\"Yanlış şifre girildi! Kalan hakkınız:\", hak)\n",
    "\n",
    "        if hak == 0:\n",
    "            print(\"Üç yanlış denemede program sona erdi.\")\n"
   ]
  },
  {
   "cell_type": "code",
   "execution_count": null,
   "id": "2a3dae29-29ee-4c2a-99d4-1a857cfc32de",
   "metadata": {},
   "outputs": [],
   "source": []
  }
 ],
 "metadata": {
  "kernelspec": {
   "display_name": "Python 3 (ipykernel)",
   "language": "python",
   "name": "python3"
  },
  "language_info": {
   "codemirror_mode": {
    "name": "ipython",
    "version": 3
   },
   "file_extension": ".py",
   "mimetype": "text/x-python",
   "name": "python",
   "nbconvert_exporter": "python",
   "pygments_lexer": "ipython3",
   "version": "3.11.5"
  }
 },
 "nbformat": 4,
 "nbformat_minor": 5
}
