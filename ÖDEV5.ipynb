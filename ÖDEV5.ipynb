{
 "cells": [
  {
   "cell_type": "code",
   "execution_count": 3,
   "id": "bc230b74-531f-403e-b9a3-2cd37dddf3e9",
   "metadata": {
    "tags": []
   },
   "outputs": [
    {
     "name": "stdout",
     "output_type": "stream",
     "text": [
      "\n",
      "Yapabileceğiniz işlemler:\n",
      "1. Yeni öğrenci eklemek\n",
      "2. Öğrenci notlarını güncellemek\n",
      "3. Öğrenci bilgilerini görüntülemek\n",
      "4. Çıkış\n"
     ]
    },
    {
     "name": "stdin",
     "output_type": "stream",
     "text": [
      "Lütfen yapmak istediğiniz işlemin numarasını girin:  1\n",
      "Öğrencinin adını, Matematik notunu, Fizik notunu, Kimya notunu girin:  EMİR 52 94 85\n"
     ]
    },
    {
     "name": "stdout",
     "output_type": "stream",
     "text": [
      "EMİR öğrencisi başarıyla eklendi.\n",
      "\n",
      "Yapabileceğiniz işlemler:\n",
      "1. Yeni öğrenci eklemek\n",
      "2. Öğrenci notlarını güncellemek\n",
      "3. Öğrenci bilgilerini görüntülemek\n",
      "4. Çıkış\n"
     ]
    },
    {
     "name": "stdin",
     "output_type": "stream",
     "text": [
      "Lütfen yapmak istediğiniz işlemin numarasını girin:  2\n",
      "Öğrencinin adını, güncellemek istediğiniz dersi ve yeni notunu girin:  IŞIL fizik 95\n"
     ]
    },
    {
     "name": "stdout",
     "output_type": "stream",
     "text": [
      "Böyle bir öğrenci veya ders bulunamadı.\n",
      "\n",
      "Yapabileceğiniz işlemler:\n",
      "1. Yeni öğrenci eklemek\n",
      "2. Öğrenci notlarını güncellemek\n",
      "3. Öğrenci bilgilerini görüntülemek\n",
      "4. Çıkış\n"
     ]
    },
    {
     "name": "stdin",
     "output_type": "stream",
     "text": [
      "Lütfen yapmak istediğiniz işlemin numarasını girin:  2\n",
      "Öğrencinin adını, güncellemek istediğiniz dersi ve yeni notunu girin:  IŞIL Fizik 95\n"
     ]
    },
    {
     "name": "stdout",
     "output_type": "stream",
     "text": [
      "IŞIL öğrencisinin Fizik notu başarıyla güncellendi.\n",
      "\n",
      "Yapabileceğiniz işlemler:\n",
      "1. Yeni öğrenci eklemek\n",
      "2. Öğrenci notlarını güncellemek\n",
      "3. Öğrenci bilgilerini görüntülemek\n",
      "4. Çıkış\n"
     ]
    },
    {
     "name": "stdin",
     "output_type": "stream",
     "text": [
      "Lütfen yapmak istediğiniz işlemin numarasını girin:  3\n",
      "Öğrencinin adını girin:  METİNCAN\n"
     ]
    },
    {
     "name": "stdout",
     "output_type": "stream",
     "text": [
      "METİNCAN öğrencisinin notları:\n",
      "Matematik: 68\n",
      "Fizik: 98\n",
      "Kimya: 54\n",
      "\n",
      "Yapabileceğiniz işlemler:\n",
      "1. Yeni öğrenci eklemek\n",
      "2. Öğrenci notlarını güncellemek\n",
      "3. Öğrenci bilgilerini görüntülemek\n",
      "4. Çıkış\n"
     ]
    },
    {
     "name": "stdin",
     "output_type": "stream",
     "text": [
      "Lütfen yapmak istediğiniz işlemin numarasını girin:  4\n"
     ]
    },
    {
     "name": "stdout",
     "output_type": "stream",
     "text": [
      "Programdan çıkılıyor...\n"
     ]
    }
   ],
   "source": [
    "ogrenci_bilgileri = {\n",
    "    \"IŞIL\": {\"Ma4tematik\": 92, \"Fizik\": 88, \"Kimya\": 35},\n",
    "    \"METİNCAN\": {\"Matematik\": 68, \"Fizik\": 98, \"Kimya\": 54},\n",
    "    \"NİL\": {\"Matematik\": 92, \"Fizik\": 80, \"Kimya\": 85}\n",
    "}\n",
    "\n",
    "def yeni_ogrenci_ekle():\n",
    "    ad, mat_not, fizik_not, kimya_not = input(\"Öğrencinin adını, Matematik notunu, Fizik notunu, Kimya notunu girin: \").split()\n",
    "    ogrenci_bilgileri[ad] = {\"Matematik\": int(mat_not), \"Fizik\": int(fizik_not), \"Kimya\": int(kimya_not)}\n",
    "    print(f\"{ad} öğrencisi başarıyla eklendi.\")\n",
    "\n",
    "def not_guncelle():\n",
    "    ad, ders, yeni_not = input(\"Öğrencinin adını, güncellemek istediğiniz dersi ve yeni notunu girin: \").split()\n",
    "    if ad in ogrenci_bilgileri and ders in ogrenci_bilgileri[ad]:\n",
    "        ogrenci_bilgileri[ad][ders] = int(yeni_not)\n",
    "        print(f\"{ad} öğrencisinin {ders} notu başarıyla güncellendi.\")\n",
    "    else:\n",
    "        print(\"Böyle bir öğrenci veya ders bulunamadı.\")\n",
    "\n",
    "def ogrenci_bilgilerini_goruntule():\n",
    "    ad = input(\"Öğrencinin adını girin: \")\n",
    "    if ad in ogrenci_bilgileri:\n",
    "        print(f\"{ad} öğrencisinin notları:\")\n",
    "        for ders, not_ in ogrenci_bilgileri[ad].items():\n",
    "            print(f\"{ders}: {not_}\")\n",
    "    else:\n",
    "        print(\"Böyle bir öğrenci bulunamadı.\")\n",
    "\n",
    "while True:\n",
    "    print(\"\\nYapabileceğiniz işlemler:\")\n",
    "    print(\"1. Yeni öğrenci eklemek\")\n",
    "    print(\"2. Öğrenci notlarını güncellemek\")\n",
    "    print(\"3. Öğrenci bilgilerini görüntülemek\")\n",
    "    print(\"4. Çıkış\")\n",
    "    \n",
    "    secim = input(\"Lütfen yapmak istediğiniz işlemin numarasını girin: \")\n",
    "\n",
    "    if secim == \"1\":\n",
    "        yeni_ogrenci_ekle()\n",
    "    elif secim == \"2\":\n",
    "        not_guncelle()\n",
    "    elif secim == \"3\":\n",
    "        ogrenci_bilgilerini_goruntule()\n",
    "    elif secim == \"4\":\n",
    "        print(\"Programdan çıkılıyor...\")\n",
    "        break\n",
    "    else:\n",
    "        print(\"Geçersiz bir seçim yaptınız. Lütfen tekrar deneyin.\")\n"
   ]
  },
  {
   "cell_type": "code",
   "execution_count": null,
   "id": "40aaddb7-be33-45c6-be94-b7b6899a8bdd",
   "metadata": {},
   "outputs": [],
   "source": []
  }
 ],
 "metadata": {
  "kernelspec": {
   "display_name": "Python 3 (ipykernel)",
   "language": "python",
   "name": "python3"
  },
  "language_info": {
   "codemirror_mode": {
    "name": "ipython",
    "version": 3
   },
   "file_extension": ".py",
   "mimetype": "text/x-python",
   "name": "python",
   "nbconvert_exporter": "python",
   "pygments_lexer": "ipython3",
   "version": "3.11.5"
  }
 },
 "nbformat": 4,
 "nbformat_minor": 5
}
