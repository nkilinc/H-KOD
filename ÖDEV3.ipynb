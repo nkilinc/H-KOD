{
 "cells": [
  {
   "cell_type": "code",
   "execution_count": 16,
   "id": "eb025afb-614d-475e-8c92-67b9b41d94e8",
   "metadata": {
    "tags": []
   },
   "outputs": [
    {
     "name": "stdin",
     "output_type": "stream",
     "text": [
      "Pi değerini girin:  1\n",
      "Dairenin yarıçapını girin:  1\n"
     ]
    },
    {
     "name": "stdout",
     "output_type": "stream",
     "text": [
      "Dairenin Alanı:  1.0\n"
     ]
    }
   ],
   "source": [
    "import math\n",
    "from datetime import datetime\n",
    "\n",
    "def daire_alani(pi, yaricap):\n",
    "    alan = pi * yaricap**2\n",
    "    return alan;\n",
    "\n",
    "pi_degeri = float(input(\"Pi değerini girin: \"))\n",
    "yaricap_degeri = float(input(\"Dairenin yarıçapını girin: \"))\n",
    "print(\"Dairenin Alanı: \", alan)"
   ]
  },
  {
   "cell_type": "code",
   "execution_count": 17,
   "id": "c3bdc9c1-52cf-4b4d-b83c-06aa05b87ea3",
   "metadata": {
    "tags": []
   },
   "outputs": [
    {
     "name": "stdin",
     "output_type": "stream",
     "text": [
      "Faktöriyelini almak istediğiniz sayıyı girin:  4\n"
     ]
    },
    {
     "name": "stdout",
     "output_type": "stream",
     "text": [
      "4! = 24\n"
     ]
    }
   ],
   "source": [
    "def faktoriyel(sayi):\n",
    "    sonuc = 1\n",
    "    for i in range(1, sayi + 1):\n",
    "        sonuc *= i;\n",
    "    print(\"{}! = {}\".format(sayi, sonuc));\n",
    "sayi = int(input(\"Faktöriyelini almak istediğiniz sayıyı girin: \"))\n",
    "faktoriyel(sayi);"
   ]
  },
  {
   "cell_type": "code",
   "execution_count": 18,
   "id": "b7d28157-9583-4160-879a-4f5cd38ff934",
   "metadata": {
    "tags": []
   },
   "outputs": [
    {
     "name": "stdin",
     "output_type": "stream",
     "text": [
      "Doğum yılınızı girin:  2003\n"
     ]
    },
    {
     "name": "stdout",
     "output_type": "stream",
     "text": [
      "NİL emekliliğine 44 yıl kaldı.\n"
     ]
    },
    {
     "name": "stdin",
     "output_type": "stream",
     "text": [
      "Adınızı girin:  nil\n"
     ]
    }
   ],
   "source": [
    "def emeklilik_durumu(isim, dogum_yili):\n",
    "    yas = yas_hesapla(dogum_yili)\n",
    "    if yas >= 65:\n",
    "        print(\"{} emekli oldunuz.\".format(isim));\n",
    "    else:\n",
    "        kalan_yil = 65 - yas;\n",
    "        print(\"{} emekliliğine {} yıl kaldı.\".format(isim, kalan_yil));\n",
    "        isim = input(\"Adınızı girin: \")\n",
    "dogum_yili = int(input(\"Doğum yılınızı girin: \"))\n",
    "emeklilik_durumu(isim, dogum_yili);"
   ]
  },
  {
   "cell_type": "code",
   "execution_count": null,
   "id": "210ee5c4-ccd6-4ac6-97ae-b3c98fab54b0",
   "metadata": {},
   "outputs": [],
   "source": []
  }
 ],
 "metadata": {
  "kernelspec": {
   "display_name": "Python 3 (ipykernel)",
   "language": "python",
   "name": "python3"
  },
  "language_info": {
   "codemirror_mode": {
    "name": "ipython",
    "version": 3
   },
   "file_extension": ".py",
   "mimetype": "text/x-python",
   "name": "python",
   "nbconvert_exporter": "python",
   "pygments_lexer": "ipython3",
   "version": "3.11.5"
  }
 },
 "nbformat": 4,
 "nbformat_minor": 5
}
